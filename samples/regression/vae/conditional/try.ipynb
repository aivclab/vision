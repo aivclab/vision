{
 "cells": [
  {
   "cell_type": "code",
   "execution_count": 1,
   "metadata": {},
   "outputs": [],
   "source": [
    "import pandas\n",
    "import seaborn\n",
    "import time\n",
    "import torch\n",
    "from collections import defaultdict\n",
    "from draugr.torch_utilities import global_torch_device\n",
    "from matplotlib import pyplot\n",
    "from torch.utils.data import DataLoader\n",
    "from torchvision import transforms\n",
    "from torchvision.datasets import MNIST\n",
    "from torch.nn.functional import one_hot\n",
    "from warg import NOD\n",
    "\n",
    "from neodroidvision import PROJECT_APP_PATH\n",
    "from neodroidvision.regression.vae.architectures.conditional_vae import ConditionalVAE\n",
    "from objectives import loss_fn\n",
    "import os"
   ]
  },
  {
   "cell_type": "code",
   "execution_count": 2,
   "metadata": {},
   "outputs": [
    {
     "name": "stdout",
     "output_type": "stream",
     "text": [
      "loading previous model: /home/heider/.local/share/neodroidvision/cvae/model_state_dict999.pth\n"
     ]
    }
   ],
   "source": [
    "fig_root = PROJECT_APP_PATH.user_data / \"cvae\"\n",
    "\n",
    "config = NOD()\n",
    "config.seed = 58329583\n",
    "config.epochs = 1000\n",
    "config.batch_size = 256\n",
    "config.learning_rate = 0.001\n",
    "config.encoder_layer_sizes = [784, 256]\n",
    "config.decoder_layer_sizes = [256, 784]\n",
    "config.latent_size = 10\n",
    "config.print_every = 100\n",
    "GLOBAL_DEVICE = global_torch_device()\n",
    "timestamp = time.time()\n",
    "torch.manual_seed(config.seed)\n",
    "if torch.cuda.is_available():\n",
    "    torch.cuda.manual_seed(config.seed)\n",
    "\n",
    "vae = ConditionalVAE(\n",
    "    encoder_layer_sizes=config.encoder_layer_sizes,\n",
    "    latent_size=config.latent_size,\n",
    "    decoder_layer_sizes=config.decoder_layer_sizes,\n",
    "    num_conditions=10,\n",
    ").to(global_torch_device())\n",
    "dataset = MNIST(\n",
    "    root=str(PROJECT_APP_PATH.user_data / \"MNIST\"),\n",
    "    train=False,\n",
    "    transform=transforms.ToTensor(),\n",
    "    download=True,\n",
    ")\n",
    "tmsp_path = fig_root / str(timestamp)\n",
    "if not tmsp_path.exists():\n",
    "    tmsp_path.mkdir(parents=True)\n",
    "\n",
    "if True:\n",
    "    _list_of_files = list(fig_root.rglob(\"*.pth\"))\n",
    "    latest_model_path = str(max(_list_of_files, key=os.path.getctime))\n",
    "    print(f\"loading previous model: {latest_model_path}\")\n",
    "    if latest_model_path is not None:\n",
    "        vae.load_state_dict(torch.load(latest_model_path))"
   ]
  },
  {
   "cell_type": "code",
   "execution_count": 3,
   "metadata": {},
   "outputs": [],
   "source": [
    "def main():\n",
    "    \"\"\" \"\"\"\n",
    "    data_loader = DataLoader(\n",
    "        dataset=dataset, batch_size=config.batch_size, shuffle=True\n",
    "    )\n",
    "\n",
    "    logs = defaultdict(list)\n",
    "\n",
    "    for iteration, (original, label) in enumerate(data_loader):\n",
    "        \"\"\"\n",
    "        original, label = (\n",
    "            original.to(global_torch_device()),\n",
    "            label.to(global_torch_device()),\n",
    "        )\n",
    "        reconstruction, mean, log_var, z = vae(\n",
    "            original, one_hot(label, 10).to(GLOBAL_DEVICE)\n",
    "        )\n",
    "\n",
    "        loss = loss_fn(reconstruction, original, mean, log_var)\"\"\"\n",
    "\n",
    "        condition_vector = torch.arange(0, 10, device=GLOBAL_DEVICE).long()\n",
    "        sample = vae.sample(\n",
    "            one_hot(condition_vector, 10).to(GLOBAL_DEVICE),\n",
    "            num=condition_vector.size(0),\n",
    "        )\n",
    "\n",
    "        pyplot.figure()\n",
    "        pyplot.figure(figsize=(5, 10))\n",
    "        for p in range(10):\n",
    "            pyplot.subplot(5, 2, p + 1)\n",
    "\n",
    "            pyplot.text(\n",
    "                0,\n",
    "                0,\n",
    "                f\"c={condition_vector[p].item():d}\",\n",
    "                color=\"black\",\n",
    "                backgroundcolor=\"white\",\n",
    "                fontsize=8,\n",
    "            )\n",
    "            pyplot.imshow(sample[p].cpu().data.numpy())\n",
    "            pyplot.axis(\"off\")\n",
    "\n",
    "        pyplot.show()\n",
    "        break"
   ]
  },
  {
   "cell_type": "code",
   "execution_count": 6,
   "metadata": {},
   "outputs": [
    {
     "data": {
      "text/plain": [
       "<Figure size 432x288 with 0 Axes>"
      ]
     },
     "metadata": {},
     "output_type": "display_data"
    },
    {
     "data": {
      "image/png": "[encoded data removed]",
      "text/plain": [
       "<Figure size 360x720 with 10 Axes>"
      ]
     },
     "metadata": {
      "needs_background": "light"
     },
     "output_type": "display_data"
    }
   ],
   "source": [
    "if __name__ == \"__main__\":\n",
    "    main()"
   ]
  },
  {
   "cell_type": "markdown",
   "metadata": {},
   "source": [
    "okjpij"
   ]
  }
 ],
 "metadata": {
  "interpreter": {
   "hash": "eac6016bd5939fde862cdcb9c2259be2907398466537f7bf3aa1adcc26aa3444"
  },
  "kernelspec": {
   "display_name": "Python 3.8.12 64-bit ('py38': conda)",
   "language": "python",
   "name": "python3"
  },
  "language_info": {
   "codemirror_mode": {
    "name": "ipython",
    "version": 3
   },
   "file_extension": ".py",
   "mimetype": "text/x-python",
   "name": "python",
   "nbconvert_exporter": "python",
   "pygments_lexer": "ipython3",
   "version": "3.8.11"
  },
  "orig_nbformat": 4
 },
 "nbformat": 4,
 "nbformat_minor": 2
}
