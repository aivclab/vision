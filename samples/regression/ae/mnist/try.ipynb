{
 "cells": [
  {
   "cell_type": "code",
   "execution_count": 1,
   "metadata": {},
   "outputs": [],
   "source": [
    "import copy\n",
    "import os\n",
    "import time\n",
    "\n",
    "from apppath import ensure_existence\n",
    "from draugr.numpy_utilities import SplitEnum\n",
    "from draugr.torch_utilities import (\n",
    "    TensorBoardPytorchWriter,\n",
    "    TorchEvalSession,\n",
    "    global_torch_device,\n",
    "    to_device_iterator,\n",
    ")\n",
    "from draugr.visualisation import plot_img_array, plot_side_by_side\n",
    "from draugr.writers import Writer\n",
    "from itertools import cycle\n",
    "from matplotlib import pyplot\n",
    "from pathlib import Path\n",
    "from torch.nn.modules.module import Module\n",
    "from torch.optim.optimizer import Optimizer\n",
    "from torch.utils.data import DataLoader\n",
    "from torchvision import transforms\n",
    "from typing import Iterator\n",
    "import torch\n",
    "from torch import optim\n",
    "from tqdm import tqdm\n",
    "from torchvision.datasets import MNIST\n",
    "\n",
    "from neodroidvision import PROJECT_APP_PATH\n",
    "from neodroidvision.multitask import SkipHourglassFission\n",
    "from neodroidvision.utilities.torch_utilities.layers.torch_layers import MinMaxNorm"
   ]
  },
  {
   "cell_type": "code",
   "execution_count": 2,
   "metadata": {},
   "outputs": [
    {
     "name": "stdout",
     "output_type": "stream",
     "text": [
      "loading previous model: /home/heider/.local/share/neodroidvision/unet_mnist/INTERRUPTED_BEST.model\n"
     ]
    },
    {
     "data": {
      "image/png": "[encoded data removed]",
      "text/plain": [
       "<Figure size 576x864 with 6 Axes>"
      ]
     },
     "metadata": {
      "needs_background": "light"
     },
     "output_type": "display_data"
    }
   ],
   "source": [
    "def inference(\n",
    "    model: Module, data_iterator: Iterator, denoise: bool = True, num: int = 3\n",
    ") -> None:\n",
    "    \"\"\"\n",
    "\n",
    "    :param model:\n",
    "    :type model:\n",
    "    :param data_iterator:\n",
    "    :type data_iterator:\"\"\"\n",
    "    with torch.no_grad():\n",
    "        with TorchEvalSession(model):\n",
    "            img, target = next(data_iterator)\n",
    "            if denoise:\n",
    "                model_input = img + torch.normal(\n",
    "                    mean=0.0, std=0.1, size=img.shape, device=global_torch_device()\n",
    "                )\n",
    "            else:\n",
    "                model_input = img\n",
    "            model_input = torch.clamp(model_input, 0.0, 1.0)\n",
    "            pred, *_ = model(model_input)\n",
    "            plot_side_by_side(\n",
    "                [\n",
    "                    pred.squeeze(1)[:num].cpu().numpy(),\n",
    "                    model_input.squeeze(1)[:num].cpu().numpy(),\n",
    "                ]\n",
    "            )\n",
    "            pyplot.show()\n",
    "            return\n",
    "\n",
    "\n",
    "def run_mnist(denoise: bool = True):\n",
    "    \"\"\"\n",
    "\n",
    "    :param load_earlier:\n",
    "    :type load_earlier:\n",
    "    :param train:\n",
    "    :type train:\"\"\"\n",
    "    seed = 251645\n",
    "    batch_size = 32\n",
    "\n",
    "    tqdm.monitor_interval = 0\n",
    "    unet_depth = 3\n",
    "    unet_start_channels = 16\n",
    "    input_channels = 1\n",
    "    output_channels = (input_channels,)\n",
    "\n",
    "    home_path = PROJECT_APP_PATH\n",
    "    model_file_ending = \".model\"\n",
    "    model_base_path = ensure_existence(PROJECT_APP_PATH.user_data / \"unet_mnist\")\n",
    "    interrupted_name = \"INTERRUPTED_BEST\"\n",
    "    interrupted_path = model_base_path / f\"{interrupted_name}{model_file_ending}\"\n",
    "\n",
    "    torch.manual_seed(seed)\n",
    "\n",
    "    device = global_torch_device()\n",
    "\n",
    "    img_transform = transforms.Compose(\n",
    "        [\n",
    "            transforms.ToTensor(),\n",
    "            MinMaxNorm(),\n",
    "            transforms.Lambda(lambda tensor: torch.round(tensor)),\n",
    "        ]\n",
    "    )\n",
    "    dataset = MNIST(\n",
    "        PROJECT_APP_PATH.user_data / \"mnist\", transform=img_transform, download=True\n",
    "    )\n",
    "    data_iter = iter(\n",
    "        cycle(DataLoader(dataset, batch_size=batch_size, shuffle=True, pin_memory=True))\n",
    "    )\n",
    "    data_iter = to_device_iterator(data_iter, device)\n",
    "\n",
    "    model = SkipHourglassFission(\n",
    "        input_channels=input_channels,\n",
    "        output_heads=output_channels,\n",
    "        encoding_depth=unet_depth,\n",
    "        start_channels=unet_start_channels,\n",
    "    ).to(global_torch_device())\n",
    "\n",
    "    _list_of_files = list(\n",
    "        model_base_path.rglob(f\"{interrupted_name}{model_file_ending}\")\n",
    "    )\n",
    "    if not len(_list_of_files):\n",
    "        print(\n",
    "            f\"found no trained models under {model_base_path}{os.path.sep}**{os.path.sep}{interrupted_name}{model_file_ending}\"\n",
    "        )\n",
    "        exit(1)\n",
    "    latest_model_path = str(max(_list_of_files, key=os.path.getctime))\n",
    "    print(f\"loading previous model: {latest_model_path}\")\n",
    "    if latest_model_path is not None:\n",
    "        model.load_state_dict(torch.load(latest_model_path))\n",
    "\n",
    "    inference(model, data_iter, denoise=denoise)\n",
    "\n",
    "    torch.cuda.empty_cache()\n",
    "\n",
    "\n",
    "if __name__ == \"__main__\":\n",
    "    run_mnist()"
   ]
  },
  {
   "cell_type": "markdown",
   "metadata": {},
   "source": [
    "Left is the denoised prediction and right is the noisy input"
   ]
  }
 ],
 "metadata": {
  "interpreter": {
   "hash": "eac6016bd5939fde862cdcb9c2259be2907398466537f7bf3aa1adcc26aa3444"
  },
  "kernelspec": {
   "display_name": "Python 3.8.11 64-bit ('py38': conda)",
   "language": "python",
   "name": "python3"
  },
  "language_info": {
   "codemirror_mode": {
    "name": "ipython",
    "version": 3
   },
   "file_extension": ".py",
   "mimetype": "text/x-python",
   "name": "python",
   "nbconvert_exporter": "python",
   "pygments_lexer": "ipython3",
   "version": "3.8.12"
  },
  "orig_nbformat": 4
 },
 "nbformat": 4,
 "nbformat_minor": 2
}
